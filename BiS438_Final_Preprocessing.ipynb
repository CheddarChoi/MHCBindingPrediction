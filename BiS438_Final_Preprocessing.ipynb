{
  "nbformat": 4,
  "nbformat_minor": 0,
  "metadata": {
    "colab": {
      "name": "BiS438_Final_Preprocessing",
      "provenance": [],
      "collapsed_sections": []
    },
    "kernelspec": {
      "name": "python3",
      "display_name": "Python 3"
    }
  },
  "cells": [
    {
      "cell_type": "code",
      "metadata": {
        "id": "giDhTGSGSNO0"
      },
      "source": [
        "# import\n",
        "import os\n",
        "import numpy as np\n",
        "import csv"
      ],
      "execution_count": null,
      "outputs": []
    },
    {
      "cell_type": "code",
      "metadata": {
        "colab": {
          "base_uri": "https://localhost:8080/"
        },
        "id": "v7HjuHsFTZ2x",
        "outputId": "1a0b0d3b-1301-4442-9368-630a18ca0d13"
      },
      "source": [
        "# import my google drive\n",
        "from google.colab import drive\n",
        "drive.mount('/content/gdrive')\n",
        "\n",
        "# read fasta files  \n",
        "fasta_file_path = 'gdrive/My Drive/data sample/NetMHCpan/'\n",
        "processed_file_path = 'gdrive/My Drive/data sample/NetMHCpan_processed/'\n",
        "print('list of files', os.listdir(fasta_file_path))\n",
        "\n",
        "# loading training set with ba data\n",
        "file_name_keyword = 'ba'\n",
        "all_allele = list()\n",
        "allele_list = list()\n",
        "sequence_list = list()\n",
        "ba_list = list()\n",
        "\n",
        "for single_file in [x for x in os.listdir(fasta_file_path) if file_name_keyword in x and x.startswith('f')]:\n",
        "  print('Processing file...', single_file)\n",
        "  with open(fasta_file_path + single_file) as f:\n",
        "    for line in f.readlines():\n",
        "      if len(line.split()) == 4:\n",
        "        [sequence, ba, allele, _] = line.split()\n",
        "        allele_list.append(allele)\n",
        "        if not allele in all_allele:\n",
        "          all_allele.append(allele)\n",
        "        sequence_list.append(sequence)\n",
        "        ba_list.append(float(ba))"
      ],
      "execution_count": null,
      "outputs": [
        {
          "output_type": "stream",
          "text": [
            "Drive already mounted at /content/gdrive; to attempt to forcibly remount, call drive.mount(\"/content/gdrive\", force_remount=True).\n",
            "list of files ['f001_ba.txt', 'f000_ba.txt', 'f002_ba.txt', 'f003_ba.txt', 'c000_ba.txt', 'f004_ba.txt', 'c001_ba.txt', 'c002_ba.txt', 'c003_ba.txt', 'c004_ba.txt', 'c002_el.txt', 'c001_el.txt', 'c003_el.txt', 'c000_el.txt', 'c004_el.txt', 'f000_el.txt', 'f003_el.txt', 'f001_el.txt', 'f002_el.txt', 'f004_el.txt']\n",
            "Processing file... f001_ba.txt\n",
            "Processing file... f000_ba.txt\n",
            "Processing file... f002_ba.txt\n",
            "Processing file... f003_ba.txt\n",
            "Processing file... f004_ba.txt\n"
          ],
          "name": "stdout"
        }
      ]
    },
    {
      "cell_type": "code",
      "metadata": {
        "colab": {
          "base_uri": "https://localhost:8080/"
        },
        "id": "2jw-CWROfxos",
        "outputId": "a73f10e7-e116-4c41-bea6-a0c4cbf6ff99"
      },
      "source": [
        "allele_cnt = dict()\n",
        "for curr_allele in all_allele:\n",
        "  allele_cnt[curr_allele] = allele_list.count(curr_allele)\n",
        "allele_cnt = sorted(allele_cnt.items(), key=lambda x:x[1], reverse=True)\n",
        "print(allele_cnt)"
      ],
      "execution_count": null,
      "outputs": [
        {
          "output_type": "stream",
          "text": [
            "[('HLA-A02:01', 48568), ('HLA-A03:01', 29376), ('HLA-A11:01', 25552), ('HLA-A02:03', 25184), ('HLA-A31:01', 22812), ('HLA-A02:06', 22488), ('HLA-A68:02', 22160), ('HLA-A01:01', 19120), ('HLA-B07:02', 18540), ('HLA-A26:01', 18108), ('HLA-B15:01', 17764), ('HLA-A02:02', 16608), ('H-2-Kb', 15984), ('H-2-Db', 15220), ('HLA-A68:01', 15160), ('HLA-B27:05', 14684), ('HLA-A33:01', 14368), ('HLA-B08:01', 14136), ('HLA-B40:01', 13752), ('HLA-B58:01', 13356), ('HLA-A24:02', 13096), ('HLA-B35:01', 12824), ('HLA-A30:01', 11684), ('HLA-B51:01', 11588), ('HLA-B57:01', 11588), ('HLA-B18:01', 11308), ('HLA-A29:02', 11128), ('HLA-A23:01', 10548), ('Mamu-A01', 10356), ('HLA-A69:01', 10240), ('HLA-B44:02', 9252), ('HLA-A30:02', 8204), ('HLA-B46:01', 7216), ('HLA-B39:01', 7140), ('HLA-B53:01', 6872), ('Mamu-B17', 6592), ('HLA-B15:17', 5776), ('HLA-B44:03', 5616), ('HLA-A24:03', 5516), ('Mamu-A02', 5416), ('Mamu-A11', 5040), ('HLA-A02:19', 4972), ('HLA-B54:01', 4808), ('HLA-A02:12', 4724), ('HLA-A80:01', 4668), ('Mamu-B03', 4544), ('HLA-A32:01', 4536), ('Mamu-B08', 4508), ('HLA-A02:11', 4324), ('HLA-B45:01', 4316), ('HLA-B40:02', 4296), ('HLA-B08:02', 4072), ('HLA-A25:01', 3836), ('HLA-A02:16', 3676), ('Mamu-B52', 3572), ('HLA-B48:01', 3524), ('Mamu-B01', 3516), ('HLA-B27:03', 3496), ('H-2-Kd', 3392), ('HLA-B15:09', 3320), ('Patr-B0101', 3136), ('HLA-B15:03', 2796), ('Mamu-A2201', 2756), ('Mamu-A07', 2724), ('Patr-A0901', 2616), ('HLA-A26:02', 2564), ('Patr-A0701', 2360), ('HLA-C04:01', 2208), ('HLA-A26:03', 2140), ('HLA-B38:01', 2064), ('HLA-B08:03', 1876), ('Mamu-B3901', 1836), ('Patr-A0101', 1736), ('Mamu-B8301', 1728), ('H-2-Dd', 1652), ('HLA-C06:02', 1640), ('H-2-Kk', 1488), ('Patr-A0301', 1484), ('HLA-B15:42', 1456), ('HLA-B45:06', 1448), ('HLA-A02:17', 1384), ('HLA-B14:02', 1360), ('HLA-B83:01', 1356), ('H-2-Ld', 1336), ('Patr-A0401', 1308), ('Patr-B2401', 1296), ('HLA-B35:03', 1136), ('BoLA-HD6', 1072), ('HLA-C14:02', 1036), ('BoLA-D18.4', 1032), ('HLA-C15:02', 1008), ('HLA-C07:01', 964), ('HLA-B42:01', 948), ('HLA-A66:01', 872), ('Patr-B1301', 864), ('Mamu-A2601', 824), ('SLA-10401', 740), ('HLA-C05:01', 688), ('HLA-C12:03', 688), ('BoLA-T2a', 668), ('BoLA-AW10', 664), ('HLA-B15:02', 656), ('Mamu-B1001', 636), ('BoLA-JSP.1', 632), ('BoLA-T2b', 628), ('Mamu-B8701', 620), ('HLA-C03:03', 612), ('Mamu-A20102', 584), ('HLA-C07:02', 568), ('HLA-A02:50', 536), ('HLA-B73:01', 488), ('SLA-20401', 420), ('Mamu-A70103', 408), ('Mamu-B6601', 404), ('HLA-E01:01', 384), ('HLA-B27:20', 368), ('BoLA-T2C', 360), ('HLA-A32:07', 352), ('HLA-C08:02', 348), ('HLA-A68:23', 328), ('HLA-A02:07', 320), ('SLA-30401', 304), ('HLA-A02:05', 300), ('HLA-A32:15', 296), ('HLA-B37:01', 272), ('HLA-E01:03', 268), ('HLA-B58:02', 264), ('HLA-B40:13', 236), ('HLA-B14:01', 168), ('HLA-B57:03', 136), ('HLA-A03:19', 120), ('HLA-A03:02', 104), ('HLA-B81:01', 104), ('SLA-10701', 92), ('HLA-A02:10', 72), ('HLA-B42:02', 72), ('HLA-B57:02', 72), ('Gogo-B0101', 60), ('HLA-B52:01', 60), ('HLA-A74:01', 60), ('HLA-A11:02', 56), ('HLA-B27:02', 32), ('Patr-B1701', 32), ('HLA-B27:06', 28), ('HLA-B27:04', 16), ('HLA-A02:04', 16), ('HLA-B27:01', 16), ('H-2-Lq', 12), ('HLA-B27:10', 8), ('Mamu-B04', 8), ('HLA-B35:08', 4), ('Patr-A0602', 4), ('Patr-B0901', 4)]\n"
          ],
          "name": "stdout"
        }
      ]
    },
    {
      "cell_type": "code",
      "metadata": {
        "colab": {
          "base_uri": "https://localhost:8080/"
        },
        "id": "WfL5G4thePtQ",
        "outputId": "1c9eec5f-1410-4d2a-dbbe-aa0d0bba34e2"
      },
      "source": [
        "allele_used = []\n",
        "\n",
        "for (curr_allele, cnt) in allele_cnt:\n",
        "  if cnt < 20000:\n",
        "    break\n",
        "  allele_used.append(curr_allele)\n",
        "  curr_sequence_list = []\n",
        "  curr_label_list = []\n",
        "  print(\"Processing \"+curr_allele)\n",
        "  index = 0\n",
        "  cnt = 0\n",
        "  for allele in allele_list:\n",
        "    if allele == curr_allele:\n",
        "      cnt += 1\n",
        "      if len(sequence_list[index]) < 20:\n",
        "        curr_sequence_list.append(sequence_list[index])\n",
        "        if ba_list[index] > 0.426:\n",
        "          curr_label_list.append(1)\n",
        "        else:\n",
        "          curr_label_list.append(0)\n",
        "    index += 1\n",
        "  print(\"Data points: \"+str(len(curr_sequence_list)))\n",
        "  print(\"Original Data points: \"+str(cnt))\n",
        "  print(\"ratio: \"+str((cnt-len(curr_sequence_list))*100/cnt))\n",
        "\n",
        "  f = open(processed_file_path+'train_'+curr_allele+'.tsv', 'w', encoding='utf-8', newline='')\n",
        "  wr = csv.writer(f, delimiter='\\t')\n",
        "  title = np.arange(2).tolist()\n",
        "  title[0] = \"peptide\"\n",
        "  title[1] = \"label_num\"\n",
        "  wr.writerow(title)\n",
        "\n",
        "  for index in range(len(curr_label_list)):\n",
        "    data = []\n",
        "    data.append(curr_sequence_list[index])\n",
        "    data.append(curr_label_list[index])\n",
        "    wr.writerow(data)\n",
        "\n",
        "  f.close()"
      ],
      "execution_count": null,
      "outputs": [
        {
          "output_type": "stream",
          "text": [
            "Processing HLA-A02:01\n",
            "Data points: 48564\n",
            "Original Data points: 48568\n",
            "ratio: 0.00823587547356284\n",
            "Processing HLA-A03:01\n",
            "Data points: 29376\n",
            "Original Data points: 29376\n",
            "ratio: 0.0\n",
            "Processing HLA-A11:01\n",
            "Data points: 25552\n",
            "Original Data points: 25552\n",
            "ratio: 0.0\n",
            "Processing HLA-A02:03\n",
            "Data points: 25184\n",
            "Original Data points: 25184\n",
            "ratio: 0.0\n",
            "Processing HLA-A31:01\n",
            "Data points: 22812\n",
            "Original Data points: 22812\n",
            "ratio: 0.0\n",
            "Processing HLA-A02:06\n",
            "Data points: 22488\n",
            "Original Data points: 22488\n",
            "ratio: 0.0\n",
            "Processing HLA-A68:02\n",
            "Data points: 22160\n",
            "Original Data points: 22160\n",
            "ratio: 0.0\n"
          ],
          "name": "stdout"
        }
      ]
    },
    {
      "cell_type": "code",
      "metadata": {
        "colab": {
          "base_uri": "https://localhost:8080/"
        },
        "id": "jWVRjH8K9Qk6",
        "outputId": "44e442e5-05ba-4f69-bed6-2315dc3c3ee8"
      },
      "source": [
        "allele_used = []\n",
        "\n",
        "curr_sequence_list = []\n",
        "curr_label_list = []\n",
        "curr_allele_list = []\n",
        "\n",
        "for (curr_allele, cnt) in allele_cnt:\n",
        "  if cnt < 20000:\n",
        "    break\n",
        "  allele_used.append(curr_allele)\n",
        "  print(\"Processing \"+curr_allele)\n",
        "  index = 0\n",
        "  for allele in allele_list:\n",
        "    if allele == curr_allele:\n",
        "      if len(sequence_list[index]) < 20:\n",
        "        curr_sequence_list.append(sequence_list[index])\n",
        "        if ba_list[index] > 0.426:\n",
        "          curr_label_list.append(1)\n",
        "        else:\n",
        "          curr_label_list.append(0)\n",
        "        curr_allele_list.append(curr_allele)\n",
        "    index += 1\n",
        "  print(\"Data points: \"+str(len(curr_sequence_list)))\n",
        "\n",
        "f = open(processed_file_path+'train_all.tsv', 'w', encoding='utf-8', newline='')\n",
        "wr = csv.writer(f, delimiter='\\t')\n",
        "title = np.arange(3).tolist()\n",
        "title[0] = \"peptide\"\n",
        "title[1] = \"allele\"\n",
        "title[2] = \"label_num\"\n",
        "wr.writerow(title)\n",
        "\n",
        "for index in range(len(curr_label_list)):\n",
        "  data = []\n",
        "  data.append(curr_sequence_list[index])\n",
        "  data.append(curr_allele_list[index])\n",
        "  data.append(curr_label_list[index])\n",
        "  wr.writerow(data)\n",
        "\n",
        "f.close()"
      ],
      "execution_count": null,
      "outputs": [
        {
          "output_type": "stream",
          "text": [
            "Processing HLA-A02:01\n",
            "Data points: 48564\n",
            "Processing HLA-A03:01\n",
            "Data points: 77940\n",
            "Processing HLA-A11:01\n",
            "Data points: 103492\n",
            "Processing HLA-A02:03\n",
            "Data points: 128676\n",
            "Processing HLA-A31:01\n",
            "Data points: 151488\n",
            "Processing HLA-A02:06\n",
            "Data points: 173976\n",
            "Processing HLA-A68:02\n",
            "Data points: 196136\n"
          ],
          "name": "stdout"
        }
      ]
    },
    {
      "cell_type": "code",
      "metadata": {
        "colab": {
          "base_uri": "https://localhost:8080/"
        },
        "id": "nvE1dUr677bX",
        "outputId": "0a195d5b-60c3-402e-a96c-8916b292edfc"
      },
      "source": [
        "# loading training set with ba data\n",
        "file_name_keyword = 'ba'\n",
        "all_allele = list()\n",
        "allele_list = list()\n",
        "sequence_list = list()\n",
        "ba_list = list()\n",
        "\n",
        "for single_file in [x for x in os.listdir(fasta_file_path) if file_name_keyword in x and x.startswith('c')]:\n",
        "  print('Processing file...', single_file)\n",
        "  with open(fasta_file_path + single_file) as f:\n",
        "    for line in f.readlines():\n",
        "      if len(line.split()) == 4:\n",
        "        [sequence, ba, allele, _] = line.split()\n",
        "        if allele in allele_used:\n",
        "          allele_list.append(allele)\n",
        "          if not allele in all_allele:\n",
        "            all_allele.append(allele)\n",
        "          sequence_list.append(sequence)\n",
        "          ba_list.append(float(ba))"
      ],
      "execution_count": null,
      "outputs": [
        {
          "output_type": "stream",
          "text": [
            "Processing file... c000_ba.txt\n",
            "Processing file... c001_ba.txt\n",
            "Processing file... c002_ba.txt\n",
            "Processing file... c003_ba.txt\n",
            "Processing file... c004_ba.txt\n"
          ],
          "name": "stdout"
        }
      ]
    },
    {
      "cell_type": "code",
      "metadata": {
        "colab": {
          "base_uri": "https://localhost:8080/"
        },
        "id": "IleD3ru58CdZ",
        "outputId": "f1941080-95b3-4867-8323-976eaef00a86"
      },
      "source": [
        "allele_cnt = dict()\n",
        "for curr_allele in all_allele:\n",
        "  allele_cnt[curr_allele] = allele_list.count(curr_allele)\n",
        "allele_cnt = sorted(allele_cnt.items(), key=lambda x:x[1], reverse=True)\n",
        "print(allele_cnt)"
      ],
      "execution_count": null,
      "outputs": [
        {
          "output_type": "stream",
          "text": [
            "[('HLA-A02:01', 12142), ('HLA-A03:01', 7344), ('HLA-A11:01', 6388), ('HLA-A02:03', 6296), ('HLA-A31:01', 5703), ('HLA-A02:06', 5622), ('HLA-A68:02', 5540)]\n"
          ],
          "name": "stdout"
        }
      ]
    },
    {
      "cell_type": "code",
      "metadata": {
        "colab": {
          "base_uri": "https://localhost:8080/"
        },
        "id": "12hZpyLi8ESk",
        "outputId": "1359eb2d-4d09-4c6b-82c2-6de4fcc61ec2"
      },
      "source": [
        "for (curr_allele, cnt) in allele_cnt:\n",
        "  curr_sequence_list = []\n",
        "  curr_label_list = []\n",
        "  print(\"Processing \"+curr_allele)\n",
        "  index = 0\n",
        "  for allele in allele_list:\n",
        "    if allele == curr_allele and len(sequence_list[index]) < 14:\n",
        "      curr_sequence_list.append(sequence_list[index])\n",
        "      if ba_list[index] > 0.426:\n",
        "        curr_label_list.append(1)\n",
        "      else:\n",
        "        curr_label_list.append(0)\n",
        "    index += 1\n",
        "  print(\"Data points: \"+str(len(curr_sequence_list)))\n",
        "\n",
        "  f = open(processed_file_path+'test_'+curr_allele+'.tsv', 'w', encoding='utf-8', newline='')\n",
        "  wr = csv.writer(f, delimiter='\\t')\n",
        "  title = np.arange(2).tolist()\n",
        "  title[0] = \"peptide\"\n",
        "  title[1] = \"label_num\"\n",
        "  wr.writerow(title)\n",
        "\n",
        "  for index in range(len(curr_label_list)):\n",
        "    data = []\n",
        "    data.append(curr_sequence_list[index])\n",
        "    data.append(curr_label_list[index])\n",
        "    wr.writerow(data)\n",
        "\n",
        "  f.close()"
      ],
      "execution_count": null,
      "outputs": [
        {
          "output_type": "stream",
          "text": [
            "Processing HLA-A02:01\n",
            "Data points: 12117\n",
            "Processing HLA-A03:01\n",
            "Data points: 7318\n",
            "Processing HLA-A11:01\n",
            "Data points: 6372\n",
            "Processing HLA-A02:03\n",
            "Data points: 6277\n",
            "Processing HLA-A31:01\n",
            "Data points: 5689\n",
            "Processing HLA-A02:06\n",
            "Data points: 5600\n",
            "Processing HLA-A68:02\n",
            "Data points: 5520\n"
          ],
          "name": "stdout"
        }
      ]
    },
    {
      "cell_type": "code",
      "metadata": {
        "colab": {
          "base_uri": "https://localhost:8080/"
        },
        "id": "jkCzQTEU-Z8H",
        "outputId": "c352ca10-7bb8-4bfe-c79c-2a4aeb2e7e08"
      },
      "source": [
        "allele_used = []\n",
        "\n",
        "curr_sequence_list = []\n",
        "curr_label_list = []\n",
        "curr_allele_list = []\n",
        "\n",
        "for (curr_allele, cnt) in allele_cnt:\n",
        "  allele_used.append(curr_allele)\n",
        "  print(\"Processing \"+curr_allele)\n",
        "  index = 0\n",
        "  for allele in allele_list:\n",
        "    if allele == curr_allele:\n",
        "      if len(sequence_list[index]) < 20:\n",
        "        curr_sequence_list.append(sequence_list[index])\n",
        "        if ba_list[index] > 0.426:\n",
        "          curr_label_list.append(1)\n",
        "        else:\n",
        "          curr_label_list.append(0)\n",
        "        curr_allele_list.append(curr_allele)\n",
        "    index += 1\n",
        "  print(\"Data points: \"+str(len(curr_sequence_list)))\n",
        "\n",
        "f = open(processed_file_path+'test_all.tsv', 'w', encoding='utf-8', newline='')\n",
        "wr = csv.writer(f, delimiter='\\t')\n",
        "title = np.arange(3).tolist()\n",
        "title[0] = \"peptide\"\n",
        "title[1] = \"allele\"\n",
        "title[2] = \"label_num\"\n",
        "wr.writerow(title)\n",
        "\n",
        "for index in range(len(curr_label_list)):\n",
        "  data = []\n",
        "  data.append(curr_sequence_list[index])\n",
        "  data.append(curr_allele_list[index])\n",
        "  data.append(curr_label_list[index])\n",
        "  wr.writerow(data)\n",
        "\n",
        "f.close()"
      ],
      "execution_count": null,
      "outputs": [
        {
          "output_type": "stream",
          "text": [
            "Processing HLA-A02:01\n",
            "Data points: 12141\n",
            "Processing HLA-A03:01\n",
            "Data points: 19485\n",
            "Processing HLA-A11:01\n",
            "Data points: 25873\n",
            "Processing HLA-A02:03\n",
            "Data points: 32169\n",
            "Processing HLA-A31:01\n",
            "Data points: 37872\n",
            "Processing HLA-A02:06\n",
            "Data points: 43494\n",
            "Processing HLA-A68:02\n",
            "Data points: 49034\n"
          ],
          "name": "stdout"
        }
      ]
    }
  ]
}